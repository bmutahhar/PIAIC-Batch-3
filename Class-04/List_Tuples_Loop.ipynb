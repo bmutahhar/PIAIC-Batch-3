{
 "cells": [
  {
   "cell_type": "markdown",
   "metadata": {
    "collapsed": true,
    "pycharm": {
     "name": "#%% md\n"
    }
   },
   "source": [
    "LIST AND TUPLE PRATICE\n",
    "\n",
    "\n"
   ]
  },
  {
   "cell_type": "code",
   "execution_count": 7,
   "outputs": [
    {
     "name": "stdout",
     "text": [
      "['A', 'B', 'C']\n['__add__', '__class__', '__contains__', '__delattr__', '__delitem__', '__dir__', '__doc__', '__eq__', '__format__', '__ge__', '__getattribute__', '__getitem__', '__gt__', '__hash__', '__iadd__', '__imul__', '__init__', '__init_subclass__', '__iter__', '__le__', '__len__', '__lt__', '__mul__', '__ne__', '__new__', '__reduce__', '__reduce_ex__', '__repr__', '__reversed__', '__rmul__', '__setattr__', '__setitem__', '__sizeof__', '__str__', '__subclasshook__', 'append', 'clear', 'copy', 'count', 'extend', 'index', 'insert', 'pop', 'remove', 'reverse', 'sort']\n",
      "['A', 'B', 'C', 'xyz']\n"
     ],
     "output_type": "stream"
    }
   ],
   "source": [
    "names = [\"A\",\"B\",\"C\"]\n",
    "print(names)\n",
    "print(dir(names))\n",
    "x = input(\"Enter a value: \")\n",
    "names.append(x)\n",
    "print(names)"
   ],
   "metadata": {
    "collapsed": false,
    "pycharm": {
     "name": "#%%\n",
     "is_executing": false
    }
   }
  },
  {
   "cell_type": "code",
   "execution_count": 20,
   "outputs": [
    {
     "name": "stdout",
     "text": [
      "[1, 2, 3, 4, 5, 6]\n[1, 2, 3, 4, 5, 6]\n[1, 2, 3]\n[1, 2, 3, 4, 5, 6]\n"
     ],
     "output_type": "stream"
    }
   ],
   "source": [
    "l1 = [1,2,3]\n",
    "l2 = [4,5,6]\n",
    "print(l1 + l2) #inline operation\n",
    "print(l1.__add__(l2))\n",
    "print(l1)\n",
    "l1.extend(l2)#in memory\n",
    "print(l1)\n",
    "\n",
    "\n",
    "\n"
   ],
   "metadata": {
    "collapsed": false,
    "pycharm": {
     "name": "#%%\n",
     "is_executing": false
    }
   }
  },
  {
   "cell_type": "code",
   "execution_count": 49,
   "outputs": [
    {
     "name": "stdout",
     "text": [
      "3\n1\n"
     ],
     "output_type": "stream"
    }
   ],
   "source": [
    "abc = [\"A\",\"B\",\"C\",\"A\"]\n",
    "xyz = [1,2,3,2]\n",
    "print(abc.index(\"A\",2))\n",
    "print(xyz.index(2,1))"
   ],
   "metadata": {
    "collapsed": false,
    "pycharm": {
     "name": "#%%\n",
     "is_executing": false
    }
   }
  },
  {
   "cell_type": "markdown",
   "source": [
    "#counter\n",
    "#logic\n",
    "#increment/decrement\n",
    "\n",
    "LOOP (While/For)"
   ],
   "metadata": {
    "collapsed": false,
    "pycharm": {
     "name": "#%% md\n"
    }
   }
  },
  {
   "cell_type": "code",
   "execution_count": 3,
   "outputs": [
    {
     "data": {
      "text/plain": "['Pakistan1',\n 'Pakistan2',\n 'Pakistan3',\n 'Pakistan4',\n 'Pakistan5',\n 'Pakistan6',\n 'Pakistan7',\n 'Pakistan8',\n 'Pakistan9',\n 'Pakistan10']"
     },
     "metadata": {},
     "output_type": "execute_result",
     "execution_count": 3
    }
   ],
   "source": [
    "[\"Pakistan\" + str(i) for i in range(1,11)]"
   ],
   "metadata": {
    "collapsed": false,
    "pycharm": {
     "name": "#%%\n",
     "is_executing": false
    }
   }
  },
  {
   "cell_type": "code",
   "execution_count": 16,
   "outputs": [
    {
     "name": "stdout",
     "text": [
      "1 x 1 = 1\t2 x 1 = 2\t3 x 1 = 3\t\n1 x 2 = 2\t2 x 2 = 4\t3 x 2 = 6\t\n1 x 3 = 3\t2 x 3 = 6\t3 x 3 = 9\t\n1 x 4 = 4\t2 x 4 = 8\t3 x 4 = 12\t\n1 x 5 = 5\t2 x 5 = 10\t3 x 5 = 15\t\n1 x 6 = 6\t2 x 6 = 12\t3 x 6 = 18\t\n1 x 7 = 7\t2 x 7 = 14\t3 x 7 = 21\t\n1 x 8 = 8\t2 x 8 = 16\t3 x 8 = 24\t\n1 x 9 = 9\t2 x 9 = 18\t3 x 9 = 27\t\n1 x 10 = 10\t2 x 10 = 20\t3 x 10 = 30\t\n"
     ],
     "output_type": "stream"
    }
   ],
   "source": [
    "userInput = int(input(\"Enter some num: \"))\n",
    "\n",
    "for j in range(1,11):\n",
    "    \n",
    "    for i in range(1,userInput+1):\n",
    "        print(f'{i} x {j} = {i*j}',end='\\t')\n",
    "    print(end='\\n')  \n",
    "        \n",
    "    "
   ],
   "metadata": {
    "collapsed": false,
    "pycharm": {
     "name": "#%%\n",
     "is_executing": false
    }
   }
  },
  {
   "cell_type": "code",
   "execution_count": null,
   "outputs": [],
   "source": [
    "\n"
   ],
   "metadata": {
    "collapsed": false,
    "pycharm": {
     "name": "#%%\n"
    }
   }
  }
 ],
 "metadata": {
  "kernelspec": {
   "display_name": "Python 3",
   "language": "python",
   "name": "python3"
  },
  "language_info": {
   "codemirror_mode": {
    "name": "ipython",
    "version": 2
   },
   "file_extension": ".py",
   "mimetype": "text/x-python",
   "name": "python",
   "nbconvert_exporter": "python",
   "pygments_lexer": "ipython2",
   "version": "2.7.6"
  },
  "pycharm": {
   "stem_cell": {
    "cell_type": "raw",
    "source": [],
    "metadata": {
     "collapsed": false
    }
   }
  }
 },
 "nbformat": 4,
 "nbformat_minor": 0
}