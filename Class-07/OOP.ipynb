{
 "cells": [
  {
   "cell_type": "markdown",
   "source": [
    "# Object Oriented Approach Using Python"
   ],
   "metadata": {
    "collapsed": false,
    "pycharm": {
     "name": "#%% md\n"
    }
   }
  },
  {
   "cell_type": "markdown",
   "source": [
    "## __*Topics*__\n",
    "- Class\n",
    "- Instance\n",
    "- Method\n",
    "- Attributes/Properties\n",
    "- Class Variable\n",
    "***\n",
    "#### __Four Pillars of OOP__\n",
    "1. Inheritence\n",
    "2. Polymorphism\n",
    "3. Encapsulation\n",
    "4. Abstraction\n",
    "***\n",
    "\n",
    "\n",
    "\n"
   ],
   "metadata": {
    "collapsed": false,
    "pycharm": {
     "name": "#%% md\n",
     "is_executing": false
    }
   }
  },
  {
   "cell_type": "markdown",
   "source": [
    "Same function in parent and child and change the code of function body is called __Function Overloading__\n",
    "\n",
    "\n"
   ],
   "metadata": {
    "collapsed": false,
    "pycharm": {
     "name": "#%% md\n",
     "is_executing": false
    }
   }
  },
  {
   "cell_type": "code",
   "execution_count": 9,
   "outputs": [],
   "source": [
    "class student():\n",
    "    pass\n",
    "\n",
    "s1 = student()"
   ],
   "metadata": {
    "collapsed": false,
    "pycharm": {
     "name": "#%%\n",
     "is_executing": false
    }
   }
  },
  {
   "cell_type": "code",
   "execution_count": 10,
   "outputs": [
    {
     "name": "stdout",
     "text": [
      "one\nWelcome Mutahhar\n"
     ],
     "output_type": "stream"
    }
   ],
   "source": [
    "class student():\n",
    "    def __init__(self): #same as this keyword, when writing functions in python always write self as the first parameter #it is ignore when calling the method. \n",
    "        self.sid =\"\"\n",
    "        self.name = \"\"\n",
    "        self.fname = \"\"\n",
    "        print(\"one\")\n",
    "        \n",
    "    def login(self,user,password):\n",
    "        self.name = user\n",
    "        print(\"Welcome\",self.name)\n",
    "        \n",
    "    def logout(self):\n",
    "        print(\"Logging out...\")\n",
    "        \n",
    "s1 = student()\n",
    "s1.login(\"Mutahhar\",\"123\")"
   ],
   "metadata": {
    "collapsed": false,
    "pycharm": {
     "name": "#%%\n",
     "is_executing": false
    }
   }
  },
  {
   "cell_type": "code",
   "execution_count": 11,
   "outputs": [
    {
     "name": "stdout",
     "text": [
      "two\n"
     ],
     "output_type": "stream"
    }
   ],
   "source": [
    "class child(student):\n",
    "    def __init__(self):\n",
    "        print(\"two\")\n",
    "\n",
    "c1 = child();\n",
    "\n"
   ],
   "metadata": {
    "collapsed": false,
    "pycharm": {
     "name": "#%%\n",
     "is_executing": false
    }
   }
  }
 ],
 "metadata": {
  "kernelspec": {
   "display_name": "Python 3",
   "language": "python",
   "name": "python3"
  },
  "language_info": {
   "codemirror_mode": {
    "name": "ipython",
    "version": 2
   },
   "file_extension": ".py",
   "mimetype": "text/x-python",
   "name": "python",
   "nbconvert_exporter": "python",
   "pygments_lexer": "ipython2",
   "version": "2.7.6"
  },
  "pycharm": {
   "stem_cell": {
    "cell_type": "raw",
    "source": [],
    "metadata": {
     "collapsed": false
    }
   }
  }
 },
 "nbformat": 4,
 "nbformat_minor": 0
}