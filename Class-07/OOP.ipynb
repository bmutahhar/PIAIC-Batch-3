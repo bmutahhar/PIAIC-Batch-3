{
 "cells": [
  {
   "cell_type": "markdown",
   "metadata": {
    "pycharm": {
     "name": "#%% md\n"
    }
   },
   "source": [
    "# Object Oriented Approach Using Python"
   ]
  },
  {
   "cell_type": "markdown",
   "metadata": {
    "pycharm": {
     "is_executing": false,
     "name": "#%% md\n"
    }
   },
   "source": [
    "## __*Topics*__\n",
    "- Class\n",
    "- Instance\n",
    "- Method\n",
    "- Attributes/Properties\n",
    "- Class Variable\n",
    "***\n",
    "#### __Four Pillars of OOP__\n",
    "1. Inheritence\n",
    "2. Polymorphism\n",
    "3. Encapsulation\n",
    "4. Abstraction\n",
    "***"
   ]
  },
  {
   "cell_type": "markdown",
   "metadata": {
    "pycharm": {
     "is_executing": false,
     "name": "#%% md\n"
    }
   },
   "source": [
    "Same function in parent and child and change the code of function body is called __Function Overloading__"
   ]
  },
  {
   "cell_type": "code",
   "execution_count": 1,
   "metadata": {
    "pycharm": {
     "is_executing": false,
     "name": "#%%\n"
    }
   },
   "outputs": [],
   "source": [
    "class student():\n",
    "    pass\n",
    "\n",
    "s1 = student()"
   ]
  },
  {
   "cell_type": "code",
   "execution_count": 2,
   "metadata": {
    "pycharm": {
     "is_executing": false,
     "name": "#%%\n"
    }
   },
   "outputs": [
    {
     "name": "stdout",
     "output_type": "stream",
     "text": [
      "one\n",
      "Welcome Mutahhar\n"
     ]
    }
   ],
   "source": [
    "class student():\n",
    "    def __init__(self): #same as this keyword, when writing functions in python always write self as the first parameter #it is ignore when calling the method. \n",
    "        self.sid =\"\"\n",
    "        self.name = \"\"\n",
    "        self.fname = \"\"\n",
    "        print(\"one\")\n",
    "        \n",
    "    def login(self,user,password):\n",
    "        self.name = user\n",
    "        print(\"Welcome\",self.name)\n",
    "        \n",
    "    def logout(self):\n",
    "        print(\"Logging out...\")\n",
    "        \n",
    "s1 = student()\n",
    "s1.login(\"Mutahhar\",\"123\")"
   ]
  },
  {
   "cell_type": "code",
   "execution_count": 3,
   "metadata": {
    "pycharm": {
     "is_executing": false,
     "name": "#%%\n"
    }
   },
   "outputs": [
    {
     "name": "stdout",
     "output_type": "stream",
     "text": [
      "two\n"
     ]
    }
   ],
   "source": [
    "class child(student):\n",
    "    def __init__(self):\n",
    "        print(\"two\")\n",
    "\n",
    "c1 = child();\n"
   ]
  },
  {
   "cell_type": "markdown",
   "metadata": {},
   "source": [
    "## Encapsulation"
   ]
  },
  {
   "cell_type": "code",
   "execution_count": 28,
   "metadata": {
    "pycharm": {
     "is_executing": false,
     "name": "#%%\n"
    }
   },
   "outputs": [
    {
     "name": "stdout",
     "output_type": "stream",
     "text": [
      "Mutahhar\n",
      "This is a private function\n",
      "Mutahhar\n",
      "This is a private function\n",
      "name changed\n"
     ]
    }
   ],
   "source": [
    "class Temp():\n",
    "    def __init__(self,name,age):\n",
    "        self.__sname = name\n",
    "        self.__age = age\n",
    "        \n",
    "    def getName(self):\n",
    "        self.__privateMethod()\n",
    "        return self.__sname\n",
    "    def setName(self,name):\n",
    "        self.__sname = name\n",
    "    def __privateMethod(self):\n",
    "        #This is a pivate method\n",
    "        print(\"This is a private function\")\n",
    "    \n",
    "        \n",
    "\n",
    "obj1 = Temp(\"Mutahhar\",21)\n",
    "print(obj1._Temp__sname) #Access private object of a class by using Class reference with object reference\n",
    "print(obj1.getName())\n",
    "obj1.setName(\"name changed\")\n",
    "print(obj1.getName())\n"
   ]
  },
  {
   "cell_type": "markdown",
   "metadata": {},
   "source": [
    "## *Abstraction*"
   ]
  },
  {
   "cell_type": "markdown",
   "metadata": {
    "pycharm": {
     "name": "#%% md\n"
    }
   },
   "source": [
    "### Abstract Class"
   ]
  },
  {
   "cell_type": "code",
   "execution_count": null,
   "metadata": {
    "pycharm": {
     "name": "#%% \n"
    }
   },
   "outputs": [],
   "source": [
    "#Abstact class defined using Python 2.7\n",
    "class A:\n",
    "    def __init__(self):\n",
    "        print(\"Abstraction of python 2.7 without brackets in Class name\")\n",
    "\n",
    "class B(A):\n",
    "    def __init__(self):\n",
    "        print(\"Complete Class\")"
   ]
  },
  {
   "cell_type": "code",
   "execution_count": 12,
   "metadata": {
    "pycharm": {
     "is_executing": false,
     "name": "#%%\n"
    }
   },
   "outputs": [],
   "source": [
    "#Abstract class using Python 3.7\n",
    "from abc import ABC, abstractmethod\n",
    "class Human(ABC): #Abstract class\n",
    "    @abstractmethod\n",
    "    def __init__(self):\n",
    "        self.name = None\n",
    "        self.age = None\n",
    "        \n",
    "   \n",
    "    def eat(self,food):\n",
    "        print(self.name, self.age)\n",
    "        print(food)\n",
    "\n",
    "class Male(Human):\n",
    "    def __init__(self,n,a):\n",
    "        self.name = n\n",
    "        self.age = a"
   ]
  },
  {
   "cell_type": "code",
   "execution_count": 15,
   "metadata": {
    "pycharm": {
     "is_executing": false,
     "name": "#%%\n"
    }
   },
   "outputs": [
    {
     "name": "stdout",
     "output_type": "stream",
     "text": [
      "Mutahhar 21\n",
      "Biryani\n"
     ]
    }
   ],
   "source": [
    "#h1 = Human() #Instance of Abstract class produces error\n",
    "m1 = Male(\"Mutahhar\",21)\n",
    "m1.eat(\"Biryani\")\n"
   ]
  }
 ],
 "metadata": {
  "kernelspec": {
   "display_name": "Python 3",
   "language": "python",
   "name": "python3"
  },
  "language_info": {
   "codemirror_mode": {
    "name": "ipython",
    "version": 3
   },
   "file_extension": ".py",
   "mimetype": "text/x-python",
   "name": "python",
   "nbconvert_exporter": "python",
   "pygments_lexer": "ipython3",
   "version": "3.7.5"
  },
  "pycharm": {
   "stem_cell": {
    "cell_type": "raw",
    "source": [],
    "metadata": {
     "collapsed": false
    }
   }
  }
 },
 "nbformat": 4,
 "nbformat_minor": 1
}